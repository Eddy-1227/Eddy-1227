{
  "nbformat": 4,
  "nbformat_minor": 0,
  "metadata": {
    "colab": {
      "name": "Untitled1.ipynb",
      "provenance": [],
      "collapsed_sections": [],
      "authorship_tag": "ABX9TyOnreiqgPam469cFJVaAYti",
      "include_colab_link": true
    },
    "kernelspec": {
      "display_name": "Python 3",
      "name": "python3"
    },
    "language_info": {
      "name": "python"
    }
  },
  "cells": [
    {
      "cell_type": "markdown",
      "metadata": {
        "id": "view-in-github",
        "colab_type": "text"
      },
      "source": [
        "<a href=\"https://colab.research.google.com/github/Eddy-1227/Eddy-1227/blob/main/Untitled1.ipynb\" target=\"_parent\"><img src=\"https://colab.research.google.com/assets/colab-badge.svg\" alt=\"Open In Colab\"/></a>"
      ]
    },
    {
      "cell_type": "code",
      "metadata": {
        "id": "jcbVWJDo6HDk"
      },
      "source": [
        "import requests\n",
        "import pandas as pd\n",
        "import numpy as np\n",
        "import matplotlib.pyplot as plt\n",
        "from sklearn.preprocessing import LabelEncoder\n",
        "from sklearn.preprocessing import OneHotEncoder\n",
        "from sklearn import metrics\n",
        "from sklearn.preprocessing import PolynomialFeatures\n",
        "from sklearn.pipeline import FeatureUnion\n",
        "\n",
        "\n",
        "page = requests.get(\"https://www.imdb.com/search/title/?countries=us&title_type=feature&num_votes=10000,&sort=user_rating,desc\")\n",
        "\n",
        "from bs4 import BeautifulSoup\n",
        "page = BeautifulSoup(page.content, \"html.parser\" )\n",
        "page\n",
        "\n",
        "movies = page.find_all(\"div\" , { \"class\":\"lister-item mode-advanced\"})\n",
        "movies\n",
        "\n",
        "Name = []\n",
        "year = []\n",
        "ratings = []\n",
        "metascore = []\n",
        "votes = []\n",
        "\n",
        "for i in movies:\n",
        "  Name.append(i.h3.a.text)\n",
        "  year.append(i.find(\"div\" , { \"class\":\"lister-item mode-advanced\"}))\n",
        "  ratings.append(i.find(\"div\", {\"class\" : \"inline-block ratings-imdb-rating\"})[\"data-value\"])\n",
        "  try:\n",
        "    metascore.append(i.find(\"div\", {\"class\" : \"inline-block ratings-metascore\"}))\n",
        "  except:\n",
        "    metascore.append(0)\n",
        "  votes.append(i.find(\"span\" , {\"name\" : \"nv\"})[\"data-value\"])\n",
        "\n",
        "data = list(zip(Name , year, ratings, metascore, votes))\n",
        "\n",
        "\n",
        "df = pd.DataFrame(data,columns=['Name' , 'year' , 'ratings' , 'metascore', 'votes'])\n",
        "\n",
        "vibes = df\n",
        "\n",
        "vibes1  = vibes.drop(\"year\" , axis = 1)\n",
        "vibes1\n",
        "\n",
        "\n",
        "\n"
      ],
      "execution_count": null,
      "outputs": []
    },
    {
      "cell_type": "code",
      "metadata": {
        "id": "a_C_4WX2Uzwt",
        "colab": {
          "base_uri": "https://localhost:8080/"
        },
        "outputId": "b45e823b-2973-4c98-cb75-d4374c88be8f"
      },
      "source": [
        "from sklearn.impute import SimpleImputer\n",
        "imputer = SimpleImputer()\n",
        "imputer\n",
        "vibes_num = vibes1.drop('Name' , axis = 1 )\n",
        "vibes_num"
      ],
      "execution_count": null,
      "outputs": [
        {
          "output_type": "execute_result",
          "data": {
            "text/plain": [
              "SimpleImputer(add_indicator=False, copy=True, fill_value=None,\n",
              "              missing_values=nan, strategy='mean', verbose=0)"
            ]
          },
          "metadata": {
            "tags": []
          },
          "execution_count": 86
        }
      ]
    },
    {
      "cell_type": "code",
      "metadata": {
        "id": "svQ-s9m82iQj",
        "colab": {
          "base_uri": "https://localhost:8080/"
        },
        "outputId": "a4003a45-8bb6-4779-a5b2-e6aa528cdc4d"
      },
      "source": [
        "from sklearn.preprocessing import LabelEncoder\n",
        "from sklearn.preprocessing import OneHotEncoder\n",
        "labelencoder = LabelEncoder()\n",
        "encoded = vibes['Name']\n",
        "encode = labelencoder.fit_transform(encoded)\n",
        "encode\n",
        "encoder = OneHotEncoder() \n",
        "encodeed = encoder.fit_transform(encode.reshape(-1,1))\n",
        "encodeed.toarray()\n"
      ],
      "execution_count": null,
      "outputs": [
        {
          "output_type": "execute_result",
          "data": {
            "text/plain": [
              "array([[0., 0., 0., ..., 0., 0., 0.],\n",
              "       [0., 0., 0., ..., 0., 0., 0.],\n",
              "       [0., 0., 0., ..., 0., 0., 0.],\n",
              "       ...,\n",
              "       [0., 0., 1., ..., 0., 0., 0.],\n",
              "       [0., 0., 0., ..., 0., 0., 0.],\n",
              "       [0., 0., 0., ..., 0., 0., 0.]])"
            ]
          },
          "metadata": {
            "tags": []
          },
          "execution_count": 53
        }
      ]
    },
    {
      "cell_type": "code",
      "metadata": {
        "id": "q3t-oQZ-u-HY"
      },
      "source": [
        "from sklearn.pipeline import Pipeline\n",
        "from sklearn.impute import Imputer\n",
        "from sklearn.preprocessing import StandardScaler\n",
        "\n",
        "num-pipeline = Pipeline([\n",
        "                         ('attribs_adder' , CombinedAttributesAdder()),\n",
        "                         ('std_scaler' , StandardScaler()),\n",
        "                         \n",
        "])\n",
        "\n",
        "\n",
        "vides_num_tr = num_pipeline.fit_transform(vibes_num)\n",
        "\n"
      ],
      "execution_count": null,
      "outputs": []
    },
    {
      "cell_type": "code",
      "metadata": {
        "id": "stH4hjeDJS2j"
      },
      "source": [
        "from sklearn.preprocessing import MinMaxScaler\n",
        "scaler = MinMaxScaler\n",
        "vibe = pd.DataFrame(scaler.fit_transform(vibes1))"
      ],
      "execution_count": null,
      "outputs": []
    },
    {
      "cell_type": "code",
      "metadata": {
        "id": "ffUR28eZoUhi",
        "colab": {
          "base_uri": "https://localhost:8080/"
        },
        "outputId": "c02cff6f-13da-423d-ee83-d3172d02f63c"
      },
      "source": [
        "names = ['Mutanda Edward r195824h' , 'Mishoni Panashe r195895k' , 'Elizabeth R. Mavankeni R195910Q ']\n",
        "names"
      ],
      "execution_count": 1,
      "outputs": [
        {
          "output_type": "execute_result",
          "data": {
            "text/plain": [
              "['Mutanda Edward r195824h',\n",
              " 'Mishoni Panashe r195895k',\n",
              " 'Elizabeth R. Mavankeni R195910Q ']"
            ]
          },
          "metadata": {
            "tags": []
          },
          "execution_count": 1
        }
      ]
    }
  ]
}